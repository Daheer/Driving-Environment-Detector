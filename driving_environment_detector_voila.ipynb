{
 "cells": [
  {
   "cell_type": "code",
   "execution_count": 1,
   "metadata": {},
   "outputs": [],
   "source": [
    "import argparse\n",
    "import os\n",
    "import matplotlib.pyplot as plt\n",
    "from matplotlib.pyplot import imshow\n",
    "import scipy.io\n",
    "import scipy.misc\n",
    "import numpy as np\n",
    "import pandas as pd\n",
    "import PIL\n",
    "from PIL import ImageFont, ImageDraw, Image\n",
    "import tensorflow as tf\n",
    "import ipywidgets as widgets\n",
    "from tensorflow.python.framework.ops import EagerTensor\n",
    "\n",
    "from tensorflow.keras.models import load_model\n",
    "from yad2k.models.keras_yolo import yolo_head\n",
    "from yad2k.utils.utils import draw_boxes, get_colors_for_classes, scale_boxes, read_classes, read_anchors, preprocess_image\n",
    "\n",
    "import warnings\n",
    "\n",
    "warning.filterwarnings('ignore')\n",
    "\n",
    "%matplotlib inline\n",
    "!pip install voila\n",
    "!jupyter serverextension enable --sys-prefix voila "
   ]
  },
  {
   "cell_type": "code",
   "execution_count": 2,
   "metadata": {
    "nbgrader": {
     "grade": false,
     "grade_id": "cell-125a819999f836d1",
     "locked": false,
     "schema_version": 3,
     "solution": true,
     "task": false
    }
   },
   "outputs": [],
   "source": [
    "def yolo_filter_boxes(boxes, box_confidence, box_class_probs, threshold = .6):\n",
    "    \n",
    "    box_scores = np.multiply(box_class_probs, box_confidence)\n",
    "    box_classes = tf.math.argmax(box_scores, axis = -1)\n",
    "    box_class_scores = tf.math.reduce_max(box_scores, axis = -1)\n",
    "    \n",
    "    filtering_mask = box_class_scores >= threshold\n",
    "    \n",
    "    scores = tf.boolean_mask(box_class_scores, filtering_mask)\n",
    "    boxes = tf.boolean_mask(boxes, filtering_mask)\n",
    "    classes = tf.boolean_mask(box_classes, filtering_mask)    \n",
    "    \n",
    "    return scores, boxes, classes"
   ]
  },
  {
   "cell_type": "code",
   "execution_count": 3,
   "metadata": {
    "nbgrader": {
     "grade": false,
     "grade_id": "cell-43008d769892f26f",
     "locked": false,
     "schema_version": 3,
     "solution": true,
     "task": false
    }
   },
   "outputs": [],
   "source": [
    "def iou(box1, box2):\n",
    "    \n",
    "    # IOU = Intersection Over Union\n",
    "    \n",
    "    (box1_x1, box1_y1, box1_x2, box1_y2) = box1\n",
    "    (box2_x1, box2_y1, box2_x2, box2_y2) = box2\n",
    "    \n",
    "    xi1 = max(box1_x1, box2_x1)\n",
    "    yi1 = max(box1_y1, box2_y1)\n",
    "    xi2 = min(box1_x2, box2_x2)\n",
    "    yi2 = min(box1_y2, box2_y2)\n",
    "    \n",
    "    inter_width = xi2 - xi1\n",
    "    inter_height =  yi2 - yi1\n",
    "    \n",
    "    inter_area = max(inter_width, 0) * max(inter_height, 0)\n",
    "    \n",
    "    box1_area = (box1_x2 - box1_x1) * (box1_y2 - box1_y1)\n",
    "    box2_area = (box2_x2 - box2_x1) * (box2_y2 - box2_y1)\n",
    "    union_area = box1_area + box2_area - inter_area\n",
    "    \n",
    "    iou = inter_area / union_area\n",
    "    \n",
    "    return iou"
   ]
  },
  {
   "cell_type": "code",
   "execution_count": 4,
   "metadata": {
    "nbgrader": {
     "grade": false,
     "grade_id": "cell-45dde3252e543bbd",
     "locked": false,
     "schema_version": 3,
     "solution": true,
     "task": false
    }
   },
   "outputs": [],
   "source": [
    "def yolo_non_max_suppression(scores, boxes, classes, max_boxes = 10, iou_threshold = 0.5):\n",
    "    \n",
    "    max_boxes_tensor = tf.Variable(max_boxes, dtype='int32')  \n",
    "\n",
    "    nms_indices = tf.image.non_max_suppression(boxes, scores, max_boxes, iou_threshold)\n",
    "    \n",
    "    scores = tf.gather(scores, nms_indices)\n",
    "    boxes = tf.gather(boxes, nms_indices)\n",
    "    classes = tf.gather(classes, nms_indices)\n",
    "\n",
    "    \n",
    "    return scores, boxes, classes"
   ]
  },
  {
   "cell_type": "code",
   "execution_count": 5,
   "metadata": {},
   "outputs": [],
   "source": [
    "def yolo_boxes_to_corners(box_xy, box_wh):\n",
    "    \n",
    "    box_mins = box_xy - (box_wh / 2.)\n",
    "    box_maxes = box_xy + (box_wh / 2.)\n",
    "\n",
    "    return tf.keras.backend.concatenate([\n",
    "        box_mins[..., 1:2],  # y_min\n",
    "        box_mins[..., 0:1],  # x_min\n",
    "        box_maxes[..., 1:2],  # y_max\n",
    "        box_maxes[..., 0:1]  # x_max\n",
    "    ])\n"
   ]
  },
  {
   "cell_type": "code",
   "execution_count": 6,
   "metadata": {
    "nbgrader": {
     "grade": false,
     "grade_id": "cell-baa7fe688d21f2dc",
     "locked": false,
     "schema_version": 3,
     "solution": true,
     "task": false
    }
   },
   "outputs": [],
   "source": [
    "def yolo_eval(yolo_outputs, image_shape = (720, 1280), max_boxes=10, score_threshold=.6, iou_threshold=.5):\n",
    "    \n",
    "    box_xy, box_wh, box_confidence, box_class_probs = yolo_outputs\n",
    "    \n",
    "    boxes = yolo_boxes_to_corners(box_xy, box_wh)\n",
    "    \n",
    "    scores, boxes, classes = yolo_filter_boxes(boxes, box_confidence, box_class_probs)\n",
    "    \n",
    "    boxes = scale_boxes(boxes, image_shape)\n",
    "    \n",
    "    scores, boxes, classes = yolo_non_max_suppression(scores, boxes, classes, max_boxes, iou_threshold)\n",
    "    \n",
    "    return scores, boxes, classes"
   ]
  },
  {
   "cell_type": "code",
   "execution_count": 7,
   "metadata": {},
   "outputs": [],
   "source": [
    "class_names = read_classes(\"model_data/coco_classes.txt\")\n",
    "anchors = read_anchors(\"model_data/yolo_anchors.txt\")\n",
    "model_image_size = (608, 608)"
   ]
  },
  {
   "cell_type": "code",
   "execution_count": 8,
   "metadata": {},
   "outputs": [
    {
     "name": "stdout",
     "output_type": "stream",
     "text": [
      "WARNING:tensorflow:SavedModel saved prior to TF 2.5 detected when loading Keras model. Please ensure that you are saving the model with model.save() or tf.keras.models.save_model(), *NOT* tf.saved_model.save(). To confirm, there should be a file named \"keras_metadata.pb\" in the SavedModel directory.\n"
     ]
    }
   ],
   "source": [
    "yolo_model = load_model(\"model_data/\", compile=False)"
   ]
  },
  {
   "cell_type": "code",
   "execution_count": 9,
   "metadata": {},
   "outputs": [
    {
     "data": {
      "text/plain": [
       "'yolo_model.summary()'"
      ]
     },
     "execution_count": 9,
     "metadata": {},
     "output_type": "execute_result"
    }
   ],
   "source": [
    "#yolo_model.summary()"
   ]
  },
  {
   "cell_type": "code",
   "execution_count": 10,
   "metadata": {},
   "outputs": [],
   "source": [
    "def predict(image_file):\n",
    "\n",
    "    image, image_data = preprocess_image(\"frames/\" + image_file, model_image_size = (608, 608))\n",
    "    \n",
    "    yolo_model_outputs = yolo_model(image_data)\n",
    "    yolo_outputs = yolo_head(yolo_model_outputs, anchors, len(class_names))\n",
    "    \n",
    "    out_scores, out_boxes, out_classes = yolo_eval(yolo_outputs, [image.size[1],  image.size[0]], 10, 0.3, 0.5)\n",
    "\n",
    "    colors = get_colors_for_classes(len(class_names))\n",
    "\n",
    "    draw_boxes(image, out_boxes, out_classes, class_names, out_scores)\n",
    "    \n",
    "    image.save(os.path.join(\"frames_out\", image_file), quality=100)\n",
    "    \n",
    "    output_image = Image.open(os.path.join(\"frames_out\", image_file))\n",
    "\n",
    "    return output_image"
   ]
  },
  {
   "cell_type": "code",
   "execution_count": 11,
   "metadata": {},
   "outputs": [],
   "source": [
    "main_folder = os.getcwd()"
   ]
  },
  {
   "cell_type": "code",
   "execution_count": null,
   "metadata": {},
   "outputs": [],
   "source": [
    "title_label = widgets.Label(value = 'Transform your driving videos')\n",
    "upload_label = widgets.Label(value = 'Upload your own video')\n",
    "sample_image_file = open(\"sample.png\", \"rb\")\n",
    "sample_image = sample_image_file.read()\n",
    "sample_image_widget = widgets.Image(\n",
    "    value = sample_image,\n",
    "    format = 'png')\n",
    "upload = widgets.FileUpload(  \n",
    "    multiple = False,\n",
    "    accept = '')\n",
    "widgets.VBox([title_label, sample_image_widget, upload_label, upload])"
   ]
  },
  {
   "cell_type": "code",
   "execution_count": null,
   "metadata": {},
   "outputs": [],
   "source": [
    "with open(list(upload.value.keys())[0], \"wb\") as fp:\n",
    "    fp.write(upload.value[list(upload.value.keys())[0]]['content'])"
   ]
  },
  {
   "cell_type": "code",
   "execution_count": 12,
   "metadata": {
    "tags": []
   },
   "outputs": [],
   "source": [
    "import cv2\n",
    "\n",
    "os.chdir(main_folder)\n",
    "video_path = ''\n",
    "for filename in os.listdir(main_folder):\n",
    "    if filename.endswith(\".mov\") or filename.endswith(\".mp4\") or filename.endswith(\".mkv\") or filename.endswith(\".avi\"):\n",
    "        video_path = filename\n",
    "video_handle = cv2.VideoCapture(video_path)\n",
    "frame_no = 0\n",
    "steps = 1\n",
    "\n",
    "while True:  \n",
    "    eof, frame = video_handle.read()  \n",
    "    if not eof:      \n",
    "        break \n",
    "    if (frame_no % 5 == 0):\n",
    "        cv2.imwrite(\"frames/0%d.jpg\" % steps, frame)  \n",
    "        steps += 1\n",
    "    frame_no += 1\n",
    "\n",
    "video_handle.release()"
   ]
  },
  {
   "cell_type": "code",
   "execution_count": 14,
   "metadata": {},
   "outputs": [
    {
     "data": {
      "application/vnd.jupyter.widget-view+json": {
       "model_id": "af5b54f2e20141bab69728d8d2b04fae",
       "version_major": 2,
       "version_minor": 0
      },
      "text/plain": [
       "IntProgress(value=0, max=238)"
      ]
     },
     "metadata": {},
     "output_type": "display_data"
    }
   ],
   "source": [
    "from ipywidgets import IntProgress\n",
    "from IPython.display import display\n",
    "\n",
    "n_frames = frame_no\n",
    "bar = IntProgress(min = 0, max = steps)\n",
    "display(bar)\n",
    "\n",
    "directory = 'frames/'\n",
    "for filename in os.listdir(directory):\n",
    "    if (bar.value < n_frames):\n",
    "        bar.value += 1\n",
    "    if filename.endswith(\".jpg\"):\n",
    "        output_image = predict(filename)"
   ]
  },
  {
   "cell_type": "code",
   "execution_count": 15,
   "metadata": {},
   "outputs": [],
   "source": [
    "output_image.close()"
   ]
  },
  {
   "cell_type": "code",
   "execution_count": 16,
   "metadata": {},
   "outputs": [],
   "source": [
    "os.chdir(main_folder)\n",
    "path_parent = os.path.dirname(os.getcwd())\n",
    "os.chdir('frames_out/')  \n",
    "path = os.getcwd()\n",
    "  \n",
    "mean_height = 0\n",
    "mean_width = 0\n",
    "  \n",
    "num_of_images = len(os.listdir('.'))\n",
    "  \n",
    "for file in os.listdir('.'):\n",
    "    if file.endswith(\".jpg\"):\n",
    "        im = Image.open(os.path.join(path, file))\n",
    "\n",
    "        width, height = im.size\n",
    "        mean_width += width\n",
    "        mean_height += height\n",
    "im.close()\n",
    "    \n",
    "mean_width = int(mean_width / num_of_images)\n",
    "mean_height = int(mean_height / num_of_images)\n",
    "\n",
    "for file in os.listdir('.'):\n",
    "    if file.endswith(\".jpg\"):\n",
    "\n",
    "        im = Image.open(os.path.join(path, file))\n",
    "   \n",
    "        width, height = im.size   \n",
    "\n",
    "        imResize = im.resize((mean_width, mean_height), Image.Resampling.LANCZOS) \n",
    "        imResize.save( file, 'JPEG', quality = 95)"
   ]
  },
  {
   "cell_type": "code",
   "execution_count": 17,
   "metadata": {},
   "outputs": [],
   "source": [
    "def generate_video():\n",
    "    image_folder = '.'\n",
    "    video_name = os.path.join(main_folder, 'out/video_output.mp4')\n",
    "    path_parent = os.path.dirname(os.getcwd())\n",
    "    os.chdir(path_parent)\n",
    "    os.chdir('frames_out/') \n",
    "        \n",
    "    images = [img for img in os.listdir(image_folder)\n",
    "              if img.endswith(\".jpg\")\n",
    "            ]\n",
    "    \n",
    "    import re\n",
    "    def sorted_alphanumeric(data):\n",
    "        convert = lambda text: int(text) if text.isdigit() else text.lower()\n",
    "        alphanum_key = lambda key: [ convert(c) for c in re.split('([0-9]+)', key) ] \n",
    "        return sorted(data, key=alphanum_key)\n",
    "    images = sorted_alphanumeric(images)\n",
    "\n",
    "    video = cv2.VideoWriter(video_name, 0, 5, (mean_width, mean_height)) \n",
    "    \n",
    "    for image in images: \n",
    "        video.write(cv2.imread(os.path.join(image_folder, image))) \n",
    "        \n",
    "    cv2.destroyAllWindows() \n",
    "    video.release()\n",
    "    \n",
    "generate_video()"
   ]
  },
  {
   "cell_type": "code",
   "execution_count": 18,
   "metadata": {
    "tags": []
   },
   "outputs": [],
   "source": [
    "os.chdir(main_folder)\n",
    "os.chdir('frames')\n",
    "for file in os.listdir('.'):\n",
    "    if file.endswith(\".jpg\"):\n",
    "        os.remove(file)\n",
    "os.chdir(main_folder)\n",
    "os.chdir('frames_out')\n",
    "for file in os.listdir('.'):\n",
    "    if file.endswith(\".jpg\"):\n",
    "        os.remove(file)"
   ]
  },
  {
   "cell_type": "code",
   "execution_count": null,
   "metadata": {},
   "outputs": [],
   "source": []
  },
  {
   "cell_type": "code",
   "execution_count": null,
   "metadata": {},
   "outputs": [],
   "source": []
  }
 ],
 "metadata": {
  "celltoolbar": "Raw Cell Format",
  "kernelspec": {
   "display_name": "Python 3 (ipykernel)",
   "language": "python",
   "name": "python3"
  },
  "language_info": {
   "codemirror_mode": {
    "name": "ipython",
    "version": 3
   },
   "file_extension": ".py",
   "mimetype": "text/x-python",
   "name": "python",
   "nbconvert_exporter": "python",
   "pygments_lexer": "ipython3",
   "version": "3.10.4"
  }
 },
 "nbformat": 4,
 "nbformat_minor": 4
}
